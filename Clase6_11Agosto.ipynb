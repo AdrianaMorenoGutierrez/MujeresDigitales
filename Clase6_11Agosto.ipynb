{
  "nbformat": 4,
  "nbformat_minor": 0,
  "metadata": {
    "colab": {
      "name": "Clase6_11Agosto.ipynb",
      "provenance": [],
      "authorship_tag": "ABX9TyPA++hXOZI3svDUPV9gOwCu",
      "include_colab_link": true
    },
    "kernelspec": {
      "name": "python3",
      "display_name": "Python 3"
    },
    "language_info": {
      "name": "python"
    }
  },
  "cells": [
    {
      "cell_type": "markdown",
      "metadata": {
        "id": "view-in-github",
        "colab_type": "text"
      },
      "source": [
        "<a href=\"https://colab.research.google.com/github/AdrianaMorenoGutierrez/MujeresDigitales/blob/main/Clase6_11Agosto.ipynb\" target=\"_parent\"><img src=\"https://colab.research.google.com/assets/colab-badge.svg\" alt=\"Open In Colab\"/></a>"
      ]
    },
    {
      "cell_type": "markdown",
      "metadata": {
        "id": "GCCfyzewomu8"
      },
      "source": [
        "**CONTINUACIÓN DE LOS EJEMPLOS DE USO DE LISTA DE COMPRENSIÓN**\n",
        "\n",
        "---\n",
        "*COMPRESIÓN DE CONJUNTOS*\n",
        "\n",
        "---\n",
        "\n",
        "La comprensión de conjuntos es muy similar a la que veniamos manejando con Lista. La única diferencia es que se usa los {}\n",
        "\n",
        "Recordemos que los conjuntos, también denominados *sets* no permiten dupliados, es decir, cada elemento es único. Si se llega a añadir en elemento repetido, no arrojará error, pero no se mostrará en el print.\n",
        "\n",
        "\n",
        "\n",
        "\n",
        "\n",
        "\n"
      ]
    },
    {
      "cell_type": "code",
      "metadata": {
        "colab": {
          "base_uri": "https://localhost:8080/"
        },
        "id": "twrjnKWEplkf",
        "outputId": "dad78a5b-f8f6-4ebe-f316-7890b4879bdf"
      },
      "source": [
        "sa=\"ema ama a mama\"\n",
        "sa2={i for i in sa if i==\"m\"}\n",
        "print(sa2)"
      ],
      "execution_count": 2,
      "outputs": [
        {
          "output_type": "stream",
          "text": [
            "{'m'}\n"
          ],
          "name": "stdout"
        }
      ]
    },
    {
      "cell_type": "markdown",
      "metadata": {
        "id": "08CzaK4wqao0"
      },
      "source": [
        "Ahora, veámos a continuación el caso de dictionarios de comprensión. La punica diferencia que tiene respecto a las listas o conjuntos de comprensión es la especificación de llaves o claves(key)."
      ]
    },
    {
      "cell_type": "code",
      "metadata": {
        "colab": {
          "base_uri": "https://localhost:8080/"
        },
        "id": "_CTugDEYqx3a",
        "outputId": "97e23f09-0328-431e-ca0f-c38eb7518763"
      },
      "source": [
        "lista1=['nombre', 'apellido', 'ciudad']\n",
        "lista2=['Ana', 'Rodriguez', 'Popayan']\n",
        "\n",
        "dic={i:j for i,j in zip(lista1, lista2)}\n",
        "print(dic)"
      ],
      "execution_count": 6,
      "outputs": [
        {
          "output_type": "stream",
          "text": [
            "{'nombre': 'Ana', 'apellido': 'Rodriguez', 'ciudad': 'Popayan'}\n"
          ],
          "name": "stdout"
        }
      ]
    },
    {
      "cell_type": "markdown",
      "metadata": {
        "id": "rFJ__3Peryk-"
      },
      "source": [
        "**NOTA**\n",
        "\n",
        "Podemos observar que añadiendo  : asignamos un valor a la llave declarada, a su vez, usamos zip() el cual tiene como función iterar dos listas en paralelo. Es decir, con zip, podemos convertir dos listas en un diccionario y el for, se manejaria iterando dos valores en simultaneo."
      ]
    },
    {
      "cell_type": "markdown",
      "metadata": {
        "id": "fag6C1t3sdbX"
      },
      "source": [
        "**OTRAS ESTRUCTURAS DE CONTROL**\n",
        "\n",
        "---\n",
        "\n",
        "1. Switch\n",
        "2. Brak.\n",
        "3. Continue\n",
        "4. Complemento de iteración (Enumerate)\n",
        "\n",
        "**1. Switch**\n",
        "\n",
        "El Switch, es una herramienta que permite ejecutar diferentes secciones de código, dependeiendo de las condiciones impustas.\n",
        "Su función, es muy similar *if anidados o varios por separado al mismo tiempo*.\n",
        "\n",
        "Sin embargo, en Python no hay un switch directo.\n",
        "\n",
        "---\n",
        "\n",
        "**2. Break**\n",
        "\n",
        "Nos permite alterar el comportamiento de los ciclos *while* y *for*. Directamente su función, es la de finalizar los ciclos\n",
        "\n"
      ]
    },
    {
      "cell_type": "code",
      "metadata": {
        "colab": {
          "base_uri": "https://localhost:8080/"
        },
        "id": "vTTUCasDt9jW",
        "outputId": "b9bd7096-424a-4626-cfea-18c7d1693eed"
      },
      "source": [
        "x=\"Andrea\" # sin break va a generar error\n",
        "for i in x:\n",
        "  if i==\"e\":\n",
        "    print(\"se obtuvo la letra e\")\n",
        "  break\n",
        "print(i)"
      ],
      "execution_count": 14,
      "outputs": [
        {
          "output_type": "stream",
          "text": [
            "A\n"
          ],
          "name": "stdout"
        }
      ]
    },
    {
      "cell_type": "code",
      "metadata": {
        "colab": {
          "base_uri": "https://localhost:8080/"
        },
        "id": "zYbKfNsgu_ET",
        "outputId": "98f3ae3a-b817-40d7-8aa8-10081bcb894b"
      },
      "source": [
        "x=15 #generar valor en una variable tipo numerico entero, de ahí aplicamos el ciclo de while... mientras llegemos a este punto de que este número sea verdadero.. quieor que se me genere el siguiente número\n",
        "while True: \n",
        "  x -=1\n",
        "  print(x)\n",
        "  if x==0:\n",
        "    break\n",
        "print(\"se finaliza ciclo\")"
      ],
      "execution_count": 19,
      "outputs": [
        {
          "output_type": "stream",
          "text": [
            "14\n",
            "13\n",
            "12\n",
            "11\n",
            "10\n",
            "9\n",
            "8\n",
            "7\n",
            "6\n",
            "5\n",
            "4\n",
            "3\n",
            "2\n",
            "1\n",
            "0\n",
            "se finaliza ciclo\n"
          ],
          "name": "stdout"
        }
      ]
    },
    {
      "cell_type": "code",
      "metadata": {
        "colab": {
          "base_uri": "https://localhost:8080/"
        },
        "id": "TYD4fmGdwYqp",
        "outputId": "754d6b95-49d2-4bba-b87c-c4e0d6f55d4a"
      },
      "source": [
        "#mezcla del uso de break con bucles anidados\n",
        "\n",
        "for i in range(1,8):\n",
        "  for j in range(1,8):\n",
        "    break\n",
        "  print(i,j)\n",
        "\n",
        "  #El break no afecta el *for* exterior, rompre el ciclo anidado en su conjunto\n",
        "  # Pero no afecta direcamente el ciclo exterior"
      ],
      "execution_count": 20,
      "outputs": [
        {
          "output_type": "stream",
          "text": [
            "1 1\n",
            "2 1\n",
            "3 1\n",
            "4 1\n",
            "5 1\n",
            "6 1\n",
            "7 1\n"
          ],
          "name": "stdout"
        }
      ]
    },
    {
      "cell_type": "markdown",
      "metadata": {
        "id": "iQfmRic3xyeC"
      },
      "source": [
        "**2. CONTINUE**\n",
        "\n",
        "---\n",
        "\n",
        "El *continue* se salta too el código restante en la iteración actual y vuelve al principio en caso que quede elementos por iterar.\n",
        "\n",
        "Diferencias entre break y continue:\n",
        "La principal diferencia es que el continue no rompe el ciclo, sino que pasa a la iteración pendiente.\n",
        "\n"
      ]
    },
    {
      "cell_type": "code",
      "metadata": {
        "colab": {
          "base_uri": "https://localhost:8080/"
        },
        "id": "cqXFKA98yQPN",
        "outputId": "ffc463d8-f49a-4fa2-d723-9f7cc135f759"
      },
      "source": [
        "#Ejemplo\n",
        "\n",
        "x=\"Andrea\"\n",
        "for i in x:\n",
        "  if i==\"r\":\n",
        "    continue \n",
        "  print(i)"
      ],
      "execution_count": 22,
      "outputs": [
        {
          "output_type": "stream",
          "text": [
            "A\n",
            "n\n",
            "d\n",
            "e\n",
            "a\n"
          ],
          "name": "stdout"
        }
      ]
    },
    {
      "cell_type": "code",
      "metadata": {
        "colab": {
          "base_uri": "https://localhost:8080/",
          "height": 132
        },
        "id": "1Nh4wZpcyt09",
        "outputId": "289c227c-ec37-4ca6-c32c-2f0461439b4f"
      },
      "source": [
        "#ejemplo de caso con while##########################################################\n",
        "x="
      ],
      "execution_count": 23,
      "outputs": [
        {
          "output_type": "error",
          "ename": "SyntaxError",
          "evalue": "ignored",
          "traceback": [
            "\u001b[0;36m  File \u001b[0;32m\"<ipython-input-23-c4ab1cf83381>\"\u001b[0;36m, line \u001b[0;32m2\u001b[0m\n\u001b[0;31m    x=\u001b[0m\n\u001b[0m      ^\u001b[0m\n\u001b[0;31mSyntaxError\u001b[0m\u001b[0;31m:\u001b[0m invalid syntax\n"
          ]
        }
      ]
    },
    {
      "cell_type": "code",
      "metadata": {
        "id": "wvqgWOfP0nzl"
      },
      "source": [
        ""
      ],
      "execution_count": null,
      "outputs": []
    },
    {
      "cell_type": "markdown",
      "metadata": {
        "id": "1I09OmE_zfTX"
      },
      "source": [
        "**Iterar con enumerate**\n",
        "\n",
        "---\n",
        "Pytgon nos permite iterra coleciciones de objetos y elementos de la misma forma. \n",
        "Sin embargo, hay una opción que es que en algunas situaciones que queramos acceder a un elemento ordenado podemos hacerlo, nombrandoi el indice de cada elemento ###################"
      ]
    },
    {
      "cell_type": "code",
      "metadata": {
        "colab": {
          "base_uri": "https://localhost:8080/"
        },
        "id": "WnyrZb5zz_W6",
        "outputId": "4cb0d3b8-62dc-4075-a670-2dbc1801d956"
      },
      "source": [
        "w=[\"sa\", \"se\", \"si\", \"so\", \"su\"]\n",
        "indice=1\n",
        "for i in w:\n",
        " print(indice,i)\n",
        " indice +=1\n",
        " \n",
        " ############"
      ],
      "execution_count": 28,
      "outputs": [
        {
          "output_type": "stream",
          "text": [
            "1 sa\n",
            "2 se\n",
            "3 si\n",
            "4 so\n",
            "5 su\n"
          ],
          "name": "stdout"
        }
      ]
    },
    {
      "cell_type": "code",
      "metadata": {
        "colab": {
          "base_uri": "https://localhost:8080/"
        },
        "id": "B0PEj9rb02S6",
        "outputId": "75db7411-2c7b-46a2-d724-ae6aec8d1edb"
      },
      "source": [
        "w=[\"sa\", \"se\", \"si\", \"so\", \"su\"]\n",
        "for indice, i in enumerate(w):\n",
        "  print(indice,i)\n",
        "\n",
        "x=list(enumerate(w))\n",
        "print(x)"
      ],
      "execution_count": 33,
      "outputs": [
        {
          "output_type": "stream",
          "text": [
            "0 sa\n",
            "1 se\n",
            "2 si\n",
            "3 so\n",
            "4 su\n",
            "[(0, 'sa'), (1, 'se'), (2, 'si'), (3, 'so'), (4, 'su')]\n"
          ],
          "name": "stdout"
        }
      ]
    },
    {
      "cell_type": "markdown",
      "metadata": {
        "id": "sDbL-PhZ1tyi"
      },
      "source": [
        "**Uso zip()**\n",
        "#la función directa de ocnversión e tuplas\n",
        "---\n",
        "\n",
        "Si pasamos dos listas a *zip*, ek resultado será una tupla en donde cada elemento tendrá ########### cada uno de los elementos de las entradas\n",
        "\n"
      ]
    },
    {
      "cell_type": "code",
      "metadata": {
        "colab": {
          "base_uri": "https://localhost:8080/"
        },
        "id": "oWS7gmVy2IDT",
        "outputId": "8b15ee0b-dbd9-483b-e93a-7cdfd846d830"
      },
      "source": [
        "a=[1,2,3]\n",
        "b=[\"a\",\"b\",\"c\",]\n",
        "x=(\"q\",\"w\",\"e\")\n",
        "z=(10,20,20)\n",
        "c=zip(a,b)\n",
        "print(list(c))\n",
        "\n",
        "\n",
        "for i, j in zip(a,b):\n",
        "  print(\"Número\", i, \"letras\", j)\n",
        "\n",
        "\n",
        "  ####### REVISARR\n",
        "\n",
        "a=[1,2,3]\n",
        "b=[\"a\",\"b\",\"c\",]\n",
        "x=(\"q\",\"w\",\"e\")\n",
        "z=(10,20,20)\n",
        "c=zip(a,b)\n",
        "print(list(c))\n",
        "\n",
        "\n",
        "for lu, la, le, li in zip(a,b,x,z):\n",
        "  print(\"Número\", i, \"letras\", j)\n"
      ],
      "execution_count": 41,
      "outputs": [
        {
          "output_type": "stream",
          "text": [
            "[(1, 'a'), (2, 'b'), (3, 'c')]\n",
            "Número 1 letras a\n",
            "Número 2 letras b\n",
            "Número 3 letras c\n",
            "[(1, 'a'), (2, 'b'), (3, 'c')]\n",
            "Número 3 letras c\n",
            "Número 3 letras c\n",
            "Número 3 letras c\n"
          ],
          "name": "stdout"
        }
      ]
    },
    {
      "cell_type": "code",
      "metadata": {
        "colab": {
          "base_uri": "https://localhost:8080/"
        },
        "id": "rwjYJdlW4yDh",
        "outputId": "ee350e6b-f351-47b1-c8fa-09901642a292"
      },
      "source": [
        "a=[1,2,6]   \n",
        "b=[\"a\",\"b\"]\n",
        "\n",
        "for sa, se in zip(a,b):\n",
        "  print(sa, se)\n"
      ],
      "execution_count": 46,
      "outputs": [
        {
          "output_type": "stream",
          "text": [
            "1 a\n",
            "2 b\n"
          ],
          "name": "stdout"
        }
      ]
    },
    {
      "cell_type": "code",
      "metadata": {
        "colab": {
          "base_uri": "https://localhost:8080/"
        },
        "id": "mKGZYppO5MUI",
        "outputId": "b286c703-73be-47cd-e5b6-fe347adede63"
      },
      "source": [
        "c=[(1,'a'), (2,'b'), (2,'c')]   #ESTO ES PARA ROMPER CONJUTNTOS\n",
        "a,b=zip(*c)\n",
        "print(a)\n",
        "print(b)"
      ],
      "execution_count": 49,
      "outputs": [
        {
          "output_type": "stream",
          "text": [
            "(1, 2, 2)\n",
            "('a', 'b', 'c')\n"
          ],
          "name": "stdout"
        }
      ]
    },
    {
      "cell_type": "markdown",
      "metadata": {
        "id": "yfpo9coo58D2"
      },
      "source": [
        "**FUNCIONES**\n",
        "\n",
        "---\n",
        "\n",
        "La función nos permite ordenar de manera adecuada la generación de variables de objetos y bloques de código por ciclos y demás estructura.\n",
        "\n",
        "---\n",
        "La sintaxis, es la siguiente:\n",
        "\n",
        "*def* nombre_funcion(argumentos):          bloque de código\n",
        "nombre_funcion(argumentos2)\n",
        "\n",
        "---\n",
        "\n",
        "arguemntos=el la cantidad de elemntos que vamos a considerar\n"
      ]
    },
    {
      "cell_type": "code",
      "metadata": {
        "colab": {
          "base_uri": "https://localhost:8080/"
        },
        "id": "yS6qKEQX5ope",
        "outputId": "ffa5a3d6-ae16-4df2-f7e1-a03cae5016e3"
      },
      "source": [
        "def f(a):  # en lugra de f, puedo poner lo que yo quiera\n",
        "  return 2*a\n",
        "y=f(3)\n",
        "print(y)"
      ],
      "execution_count": 54,
      "outputs": [
        {
          "output_type": "stream",
          "text": [
            "6\n"
          ],
          "name": "stdout"
        }
      ]
    },
    {
      "cell_type": "markdown",
      "metadata": {
        "id": "nP8jXLwg7j0j"
      },
      "source": [
        "Las funciones no sólo realizan una operación de sus entradas (argumentos de inicio), sino también de los siguientes principios:\n",
        "\n",
        "**1. Reusabilidad:** Si tenemos un fragmento de código usado en muchos sitios,y se guarda en una función. Nos evitará tener códigos repetidos, además de la conveniencia que tiene por ser facilmente editable.\n",
        "\n",
        "**2. Modularidad:** Permite legibilidad de forma más sencilla, es decir, los largos bloques de código se pueden agrupar en módulos o funciones y la lectura va a ser mucho más sencilla.\n",
        "\n"
      ]
    },
    {
      "cell_type": "code",
      "metadata": {
        "colab": {
          "base_uri": "https://localhost:8080/"
        },
        "id": "KCFn0iKb8fvU",
        "outputId": "74821ab3-941d-4440-bba5-6f06cb74417a"
      },
      "source": [
        "#Ejemplo 1: función son argumentos de entrada ni parametros de salida:\n",
        "\n",
        "def s(): #Declaración de función \n",
        " print(\"Hi Luisa\")\n",
        "s() #Al cerrar la definición de función, me va a aparecer la ejecución del código"
      ],
      "execution_count": 61,
      "outputs": [
        {
          "output_type": "stream",
          "text": [
            "Hi Luisa\n"
          ],
          "name": "stdout"
        }
      ]
    },
    {
      "cell_type": "code",
      "metadata": {
        "colab": {
          "base_uri": "https://localhost:8080/"
        },
        "id": "woW6ove_9RiH",
        "outputId": "772be97e-0a48-4de2-8dc1-a6cfce6d27c6"
      },
      "source": [
        "#Ejemplo 2. Inclusión de argumentos de entrada\n",
        "\n",
        "def s(apellido): #apellido en el argumento de entrada\n",
        "  print(\"Hi Luisa\", apellido)\n",
        "s(\"Varon\")\n"
      ],
      "execution_count": 64,
      "outputs": [
        {
          "output_type": "stream",
          "text": [
            "Hi Luisa Varon\n"
          ],
          "name": "stdout"
        }
      ]
    },
    {
      "cell_type": "code",
      "metadata": {
        "colab": {
          "base_uri": "https://localhost:8080/"
        },
        "id": "oflLvIkK93De",
        "outputId": "f9fb9299-7756-46f9-94be-e2b3214d9b6b"
      },
      "source": [
        "#Ejemplo 3. Usaando dos arguemntos de entrada y salida y operación matemática\n",
        "\n",
        "def suma(a,b):\n",
        " return a+b\n",
        "suma(3,5)"
      ],
      "execution_count": 82,
      "outputs": [
        {
          "output_type": "execute_result",
          "data": {
            "text/plain": [
              "8"
            ]
          },
          "metadata": {
            "tags": []
          },
          "execution_count": 82
        }
      ]
    },
    {
      "cell_type": "code",
      "metadata": {
        "colab": {
          "base_uri": "https://localhost:8080/"
        },
        "id": "eyV7MT-8-4nk",
        "outputId": "28d51d77-ccbf-4427-90f9-2e013fc7e480"
      },
      "source": [
        "#Ejemplo 4. Reusabilidad del código\n",
        "dog(a=4, b=20)\n",
        "\n",
        "#\n",
        "suma(a=4, b=20)"
      ],
      "execution_count": 84,
      "outputs": [
        {
          "output_type": "execute_result",
          "data": {
            "text/plain": [
              "24"
            ]
          },
          "metadata": {
            "tags": []
          },
          "execution_count": 84
        }
      ]
    },
    {
      "cell_type": "code",
      "metadata": {
        "colab": {
          "base_uri": "https://localhost:8080/"
        },
        "id": "RQDWty3Z_Z3c",
        "outputId": "e8c1b578-291f-4884-eb75-4068c4107bc5"
      },
      "source": [
        "#Ejemplo 4. Argumentos fijos desde el inicio\n",
        "\n",
        "def suma(a,b,c,d=1): ##Corección de default\n",
        " return a+b+c+d\n",
        "suma(2,3,4,2)\n",
        "\n"
      ],
      "execution_count": 87,
      "outputs": [
        {
          "output_type": "execute_result",
          "data": {
            "text/plain": [
              "11"
            ]
          },
          "metadata": {
            "tags": []
          },
          "execution_count": 87
        }
      ]
    },
    {
      "cell_type": "markdown",
      "metadata": {
        "id": "7tp0_JuH-5hM"
      },
      "source": [
        ""
      ]
    },
    {
      "cell_type": "code",
      "metadata": {
        "colab": {
          "base_uri": "https://localhost:8080/"
        },
        "id": "OkEg0VsqA2GY",
        "outputId": "87b9a26e-5a32-416f-d92c-34293c2e99a7"
      },
      "source": [
        "suma(2,3,3,4)"
      ],
      "execution_count": 88,
      "outputs": [
        {
          "output_type": "execute_result",
          "data": {
            "text/plain": [
              "12"
            ]
          },
          "metadata": {
            "tags": []
          },
          "execution_count": 88
        }
      ]
    },
    {
      "cell_type": "code",
      "metadata": {
        "colab": {
          "base_uri": "https://localhost:8080/"
        },
        "id": "RID4k9hwA6SF",
        "outputId": "25c5f765-2a14-49d8-8a60-9085f9628346"
      },
      "source": [
        "def suma(a=2, b=3, c=4, d=5):\n",
        "  return a+b+c+d\n",
        "suma()\n",
        "\n",
        "suma(1)\n",
        "suma(a=1,c=5)\n"
      ],
      "execution_count": 90,
      "outputs": [
        {
          "output_type": "execute_result",
          "data": {
            "text/plain": [
              "14"
            ]
          },
          "metadata": {
            "tags": []
          },
          "execution_count": 90
        }
      ]
    },
    {
      "cell_type": "code",
      "metadata": {
        "colab": {
          "base_uri": "https://localhost:8080/"
        },
        "id": "askazXfWBfqk",
        "outputId": "e1016116-0034-4e03-8825-2ea617f6124e"
      },
      "source": [
        "# Ejemplo 5 Argumentos de longitud variable\n",
        "\n",
        "def suma(number):\n",
        "  total=0\n",
        "  for i in number:\n",
        "    total +=i\n",
        "  return total \n",
        "suma([1,3,5,4])\n",
        " \n",
        "\n",
        "####Se realizo la suma de rodos los números de entrada. Para ellos la declaración de los argumenros de salida, sería como una lista\n",
        "\n",
        "#    += dice que lo traiga de forma ordenada\n",
        " #   -= revserso"
      ],
      "execution_count": 103,
      "outputs": [
        {
          "output_type": "execute_result",
          "data": {
            "text/plain": [
              "13"
            ]
          },
          "metadata": {
            "tags": []
          },
          "execution_count": 103
        }
      ]
    },
    {
      "cell_type": "markdown",
      "metadata": {
        "id": "vSEiWnDpDGsJ"
      },
      "source": [
        "\n",
        "Nota: Se realizo la suma de rodos los números de entrada. Para ellos la declaración de los argumentos de salida, sería como una lista.\n",
        "\n",
        "1. La forma de sintaxis anterior es válida, sin embargo, tebemos un solo argumento que llamamos number, que es una lista de números.\n",
        "\n",
        "Si declaramos un argumento con *, esto hará que el argumento sea guardado como tupla de manera automática.\n",
        "\n"
      ]
    },
    {
      "cell_type": "code",
      "metadata": {
        "colab": {
          "base_uri": "https://localhost:8080/"
        },
        "id": "KF0w8QeQDnUH",
        "outputId": "a04b7cd9-d9c1-4c97-fcbb-c82cb56b12e4"
      },
      "source": [
        "def suma(*number):\n",
        "  print(type(number))\n",
        "  total=0\n",
        "  for i in number:\n",
        "    total+=i\n",
        "  return total\n",
        "suma(2,3,5,4)\n",
        "\n",
        "\n"
      ],
      "execution_count": 115,
      "outputs": [
        {
          "output_type": "stream",
          "text": [
            "<class 'tuple'>\n"
          ],
          "name": "stdout"
        },
        {
          "output_type": "execute_result",
          "data": {
            "text/plain": [
              "14"
            ]
          },
          "metadata": {
            "tags": []
          },
          "execution_count": 115
        }
      ]
    }
  ]
}