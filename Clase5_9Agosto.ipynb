{
  "nbformat": 4,
  "nbformat_minor": 0,
  "metadata": {
    "colab": {
      "name": "Clase5_9Agosto.ipynb",
      "provenance": [],
      "authorship_tag": "ABX9TyNtAzYWlG2ZqgeAOWx3Yhec",
      "include_colab_link": true
    },
    "kernelspec": {
      "name": "python3",
      "display_name": "Python 3"
    },
    "language_info": {
      "name": "python"
    }
  },
  "cells": [
    {
      "cell_type": "markdown",
      "metadata": {
        "id": "view-in-github",
        "colab_type": "text"
      },
      "source": [
        "<a href=\"https://colab.research.google.com/github/AdrianaMorenoGutierrez/MujeresDigitales/blob/main/Clase5_9Agosto.ipynb\" target=\"_parent\"><img src=\"https://colab.research.google.com/assets/colab-badge.svg\" alt=\"Open In Colab\"/></a>"
      ]
    },
    {
      "cell_type": "markdown",
      "metadata": {
        "id": "Q2BxQDxMfJjj"
      },
      "source": [
        ""
      ]
    },
    {
      "cell_type": "markdown",
      "metadata": {
        "id": "WqrpnFaJpepC"
      },
      "source": [
        "**Continuación de Ciclos**\n",
        "\n",
        "Ciclo FOR - Bucle FOR"
      ]
    },
    {
      "cell_type": "code",
      "metadata": {
        "colab": {
          "base_uri": "https://localhost:8080/"
        },
        "id": "ydP9Coefe13h",
        "outputId": "a7e7bd59-703b-4ebd-9478-63e6cfe357b6"
      },
      "source": [
        "for i in range(1,5):\n",
        "  print(i)"
      ],
      "execution_count": 4,
      "outputs": [
        {
          "output_type": "stream",
          "text": [
            "1\n",
            "2\n",
            "3\n",
            "4\n"
          ],
          "name": "stdout"
        }
      ]
    },
    {
      "cell_type": "markdown",
      "metadata": {
        "id": "Ky9n8OXzqBvm"
      },
      "source": [
        "Para dejar claro las partes que componente el bucle OFR, vamos a dejar claro las siguientes definiciones:\n",
        "\n",
        "1. **Iterable**: Sin los objetos que pueden ser iterados. Por ejemplo una lista, valor tipo cadena, etc.\n",
        "2. **Iterador**: Son objetos que hacen referencia a cada uno de los elementos hay un método denominado \"next\" que permite hacer referencia a los elementos del conjunto\n",
        "\n",
        "**#for (variable) in (iterable):\n",
        "  *# (Bloque código)\n",
        "\n",
        "Algunos ejemplos de iterables en Python son las listas, cadenas, diccionarios, tuplas, etc.\n",
        "\n",
        "¿Cómo saber que es iterable a la hora de programas?\n",
        "\n",
        "Podemos darnos cuenta que es iterable usando la función isinstance().\n",
        "\n"
      ]
    },
    {
      "cell_type": "code",
      "metadata": {
        "colab": {
          "base_uri": "https://localhost:8080/"
        },
        "id": "8Fmil26staB8",
        "outputId": "b043ee23-edb5-4176-d7a2-2382021c59a5"
      },
      "source": [
        "from collections import Iterable #Paquete Iterable Collections \n",
        "lista=[1,2,3,4,5,6,7,8,9,0]\n",
        "a=\"computador\"\n",
        "b=14\n",
        "print(isinstance(lista,Iterable))\n",
        "print(isinstance(a,Iterable))\n"
      ],
      "execution_count": 10,
      "outputs": [
        {
          "output_type": "stream",
          "text": [
            "True\n",
            "True\n"
          ],
          "name": "stdout"
        }
      ]
    },
    {
      "cell_type": "code",
      "metadata": {
        "id": "yHwTwmXXsX9E"
      },
      "source": [
        "#va a generra error, proque no se ha hecho el frim\n",
        "list=[1,2,3,4,5,6,7,8,9,0]\n",
        "a=\"computador\"\n",
        "b=10\n",
        "print(isinstance(lista,a))"
      ],
      "execution_count": null,
      "outputs": []
    },
    {
      "cell_type": "code",
      "metadata": {
        "id": "7uq0Gmwzr4eY"
      },
      "source": [
        "#genera error porque es una variable fija\n",
        "a=30\n",
        "for i in a:\n",
        "  print(i)"
      ],
      "execution_count": null,
      "outputs": []
    },
    {
      "cell_type": "code",
      "metadata": {
        "id": "Afb5fOn7voIz"
      },
      "source": [
        ""
      ],
      "execution_count": null,
      "outputs": []
    },
    {
      "cell_type": "markdown",
      "metadata": {
        "id": "-N9mLcdRvo4m"
      },
      "source": [
        "Para entender los iteradores, es importamte conocer la función *iter()*, esta función puede ser llamasa sobre un objeto que sea iterable y nos devolverá un iterador.\n",
        "\n",
        "Ejemplo:\n",
        "\n"
      ]
    },
    {
      "cell_type": "code",
      "metadata": {
        "colab": {
          "base_uri": "https://localhost:8080/"
        },
        "id": "41ncGDpiv6j8",
        "outputId": "29e506e1-a2ec-4ec7-f65a-12247c791c79"
      },
      "source": [
        "lista=[1,2,3,4,5,6,7,8,9,0]\n",
        "ref=iter(lista)\n",
        "print(ref)\n",
        "print(type(ref))\n"
      ],
      "execution_count": 13,
      "outputs": [
        {
          "output_type": "stream",
          "text": [
            "<list_iterator object at 0x7f63147533d0>\n",
            "<class 'list_iterator'>\n"
          ],
          "name": "stdout"
        }
      ]
    },
    {
      "cell_type": "markdown",
      "metadata": {
        "id": "rKDTXhf-wdln"
      },
      "source": [
        "Al imprimir Ref es un iterador, de la clase *List_iterador*. Hace referencia a la lista original y nos permite acceder a sus elementos con la función *next().\n",
        "\n",
        "**Nota**\n",
        "\n",
        "Cada vez que llamenos a next() sobre Ref, nos devuelve el siguiente elemento de la lista original.\n",
        "\n",
        "Por ejemplo, quiero acceder al elemento 7, tendremos que llamar siete veces a next"
      ]
    },
    {
      "cell_type": "code",
      "metadata": {
        "colab": {
          "base_uri": "https://localhost:8080/"
        },
        "id": "H22FaWkVw2au",
        "outputId": "33bdb683-de51-41b7-ca45-2bf8bde9e402"
      },
      "source": [
        "lista=[1,2,3,4,5,6,7,8,9,0]\n",
        "ref=iter(lista)\n",
        "print(next(ref))\n",
        "print(next(ref))\n",
        "print(next(ref))\n",
        "print(next(ref))\n",
        "print(next(ref))\n",
        "print(next(ref))\n",
        "print(next(ref))\n",
        "print(next(ref))\n",
        "print(next(ref))\n",
        "print(next(ref))\n"
      ],
      "execution_count": 14,
      "outputs": [
        {
          "output_type": "stream",
          "text": [
            "1\n",
            "2\n",
            "3\n",
            "4\n",
            "5\n",
            "6\n",
            "7\n",
            "8\n",
            "9\n",
            "0\n"
          ],
          "name": "stdout"
        }
      ]
    },
    {
      "cell_type": "markdown",
      "metadata": {
        "id": "gGSjxFf0xb5y"
      },
      "source": [
        "**Para tener en cuenta**\n",
        "\n",
        "Existen otros iteradores paar las dieferentes clases:\n",
        "\n",
        "1. str_iterador para cadenas\n",
        "\n",
        "2. list_iterador para listas\n",
        "\n",
        "3. set_iterador para conjuntos\n",
        "\n",
        "4. dict_keyiterador para diccionarios\n",
        "\n"
      ]
    },
    {
      "cell_type": "code",
      "metadata": {
        "id": "lxW_KiHgx4XM"
      },
      "source": [
        ""
      ],
      "execution_count": null,
      "outputs": []
    },
    {
      "cell_type": "markdown",
      "metadata": {
        "id": "tjH8RSCZx_od"
      },
      "source": [
        "**FOR anidados**\n",
        "\n",
        "---\n",
        "\n",
        "Es posible anidar los FOR, es deicr ingresar uno de otro. Como lo vemos a continuación.\n",
        "\n"
      ]
    },
    {
      "cell_type": "code",
      "metadata": {
        "colab": {
          "base_uri": "https://localhost:8080/"
        },
        "id": "mRFlTISFyNwN",
        "outputId": "98fce97b-3fde-4f6c-de54-552e98cea293"
      },
      "source": [
        "#Vamos a crear una lista de listas, lo cual conforma una especie de matriz\n",
        "#Recordemos que una matriz se compone de valores se distribuye en filas y columnas\n",
        "\n",
        "qa=[[1,2,3],\n",
        "    [4,5,6],\n",
        "    [7,8,9]]\n",
        "\n",
        "for i in qa:\n",
        "  print(i)\n",
        "  \n",
        "for i in qa:\n",
        "  for j in i:\n",
        "    print(j)"
      ],
      "execution_count": 20,
      "outputs": [
        {
          "output_type": "stream",
          "text": [
            "[1, 2, 3]\n",
            "[4, 5, 6]\n",
            "[7, 8, 9]\n",
            "1\n",
            "2\n",
            "3\n",
            "4\n",
            "5\n",
            "6\n",
            "7\n",
            "8\n",
            "9\n"
          ],
          "name": "stdout"
        }
      ]
    },
    {
      "cell_type": "markdown",
      "metadata": {
        "id": "dNCOhLGMzP1Q"
      },
      "source": [
        "Si queremos acceder a cada elemento individualmente, se procede a realizar un bucle de FOR anidado. Es decir, un *for* se encargará de iterar las columnas y otro las filas"
      ]
    },
    {
      "cell_type": "code",
      "metadata": {
        "colab": {
          "base_uri": "https://localhost:8080/"
        },
        "id": "CXy2CBKazzXB",
        "outputId": "1028abd3-18d3-4096-df9f-be90d676a8ea"
      },
      "source": [
        "#Veámos más ejemplos:\n",
        "\n",
        "#Otra forma de utilizar sólo el for.Es la iteración al tevés, es decir, sepúede ietrar la lista, dede el último al rpimer elemento.\n",
        "\n",
        "lista=[1,2,3,4,5,6,7,8,9,0]\n",
        "for i in lista[::-1]:\n",
        "  print(i)"
      ],
      "execution_count": 21,
      "outputs": [
        {
          "output_type": "stream",
          "text": [
            "0\n",
            "9\n",
            "8\n",
            "7\n",
            "6\n",
            "5\n",
            "4\n",
            "3\n",
            "2\n",
            "1\n"
          ],
          "name": "stdout"
        }
      ]
    },
    {
      "cell_type": "code",
      "metadata": {
        "colab": {
          "base_uri": "https://localhost:8080/"
        },
        "id": "Toityrbb0dZ4",
        "outputId": "2d2f1874-56b1-43ab-8316-e6aa1361380b"
      },
      "source": [
        "lista=[1,2,3,4,5,6,7,8,9,0]\n",
        "for i in lista[::2]:\n",
        "  print(i)\n",
        "print(\"-----------------------\")\n",
        "\n",
        "a=\"computador\"\n",
        "for i in a [::2]:\n",
        "    print(i)"
      ],
      "execution_count": 26,
      "outputs": [
        {
          "output_type": "stream",
          "text": [
            "1\n",
            "3\n",
            "5\n",
            "7\n",
            "9\n",
            "-----------------------\n",
            "c\n",
            "m\n",
            "u\n",
            "a\n",
            "o\n"
          ],
          "name": "stdout"
        }
      ]
    },
    {
      "cell_type": "code",
      "metadata": {
        "colab": {
          "base_uri": "https://localhost:8080/",
          "height": 532
        },
        "id": "Zw6TDlOG1to2",
        "outputId": "60047c2c-631f-4f23-9d3a-2050cf2b0e04"
      },
      "source": [
        "#Usando rangos\n",
        "for i in range(20):\n",
        "  print(i)\n",
        "\n",
        "  #El range() genera una secuencia de números que van desde 0 por defecto.\n",
        "  #El número que se pasa como parámetros menos 2.\n",
        "\n",
        "  #*Estructura: range(inicio, fin, salto)\n",
        "\n",
        "  #Observemos un truco con el range:\n",
        "\n",
        "print(list(range(2,10,2))) #Conversión de una lista en un rango en una lista \n"
      ],
      "execution_count": 34,
      "outputs": [
        {
          "output_type": "stream",
          "text": [
            "0\n",
            "1\n",
            "2\n",
            "3\n",
            "4\n",
            "5\n",
            "6\n",
            "7\n",
            "8\n",
            "9\n",
            "10\n",
            "11\n",
            "12\n",
            "13\n",
            "14\n",
            "15\n",
            "16\n",
            "17\n",
            "18\n",
            "19\n"
          ],
          "name": "stdout"
        },
        {
          "output_type": "error",
          "ename": "TypeError",
          "evalue": "ignored",
          "traceback": [
            "\u001b[0;31m---------------------------------------------------------------------------\u001b[0m",
            "\u001b[0;31mTypeError\u001b[0m                                 Traceback (most recent call last)",
            "\u001b[0;32m<ipython-input-34-2b3ddd044285>\u001b[0m in \u001b[0;36m<module>\u001b[0;34m()\u001b[0m\n\u001b[1;32m     10\u001b[0m   \u001b[0;31m#Observemos un truco con el range:\u001b[0m\u001b[0;34m\u001b[0m\u001b[0;34m\u001b[0m\u001b[0;34m\u001b[0m\u001b[0m\n\u001b[1;32m     11\u001b[0m \u001b[0;34m\u001b[0m\u001b[0m\n\u001b[0;32m---> 12\u001b[0;31m \u001b[0mprint\u001b[0m\u001b[0;34m(\u001b[0m\u001b[0mlist\u001b[0m\u001b[0;34m(\u001b[0m\u001b[0mrange\u001b[0m\u001b[0;34m(\u001b[0m\u001b[0;36m2\u001b[0m\u001b[0;34m,\u001b[0m\u001b[0;36m10\u001b[0m\u001b[0;34m,\u001b[0m\u001b[0;36m2\u001b[0m\u001b[0;34m)\u001b[0m\u001b[0;34m)\u001b[0m\u001b[0;34m)\u001b[0m \u001b[0;31m#Conversión de una lista en un rango en una lista\u001b[0m\u001b[0;34m\u001b[0m\u001b[0;34m\u001b[0m\u001b[0m\n\u001b[0m",
            "\u001b[0;31mTypeError\u001b[0m: 'list' object is not callable"
          ]
        }
      ]
    },
    {
      "cell_type": "markdown",
      "metadata": {
        "id": "lXJRqh5c3b7e"
      },
      "source": [
        "**Lista de comprensión**\n",
        "\n",
        "---\n",
        "\n",
        "Estas nos permiten cear listas de elementos en una sola línea de código. \n",
        "\n",
        "Ejemplo: Crear una lista de las potencias a la 3 de los números impares de 0 a 9 "
      ]
    },
    {
      "cell_type": "code",
      "metadata": {
        "colab": {
          "base_uri": "https://localhost:8080/"
        },
        "id": "YYxaIrkV38ua",
        "outputId": "037ed548-0c5e-4926-d04e-2a834fe47e89"
      },
      "source": [
        "tres=[i**3 for i in range(1,10,2)] #este es ejemplo de código más limpio\n",
        "#1,3,5,7,9\n",
        "print(tres)\n",
        "\n",
        "\n",
        "tres=[]\n",
        "for i in range(1,10,2):\n",
        "  tres.append(i**3)\n",
        "  print(tres)\n",
        "\n"
      ],
      "execution_count": 50,
      "outputs": [
        {
          "output_type": "stream",
          "text": [
            "[1, 27, 125, 343, 729]\n",
            "[1]\n",
            "[1, 27]\n",
            "[1, 27, 125]\n",
            "[1, 27, 125, 343]\n",
            "[1, 27, 125, 343, 729]\n"
          ],
          "name": "stdout"
        }
      ]
    },
    {
      "cell_type": "code",
      "metadata": {
        "colab": {
          "base_uri": "https://localhost:8080/"
        },
        "id": "nVFPAdaa59iO",
        "outputId": "9c064658-eb58-4877-a34b-23caa143cadd"
      },
      "source": [
        "s=[1 for i in range(10)]\n",
        "print(s) "
      ],
      "execution_count": 53,
      "outputs": [
        {
          "output_type": "stream",
          "text": [
            "[1, 1, 1, 1, 1, 1, 1, 1, 1, 1]\n"
          ],
          "name": "stdout"
        }
      ]
    },
    {
      "cell_type": "code",
      "metadata": {
        "colab": {
          "base_uri": "https://localhost:8080/"
        },
        "id": "DvzdCBt46Vrc",
        "outputId": "a1e59d2c-14d4-41d7-df3b-a881da3dc888"
      },
      "source": [
        "lwa=[5,10,15,20,25,30]\n",
        "lwa2=[i/5 for i in lwa]\n",
        "print(lwa2)"
      ],
      "execution_count": 55,
      "outputs": [
        {
          "output_type": "stream",
          "text": [
            "[1.0, 2.0, 3.0, 4.0, 5.0, 6.0]\n"
          ],
          "name": "stdout"
        }
      ]
    },
    {
      "cell_type": "code",
      "metadata": {
        "colab": {
          "base_uri": "https://localhost:8080/"
        },
        "id": "C3lMd5Cf61qa",
        "outputId": "092ebac9-eec6-4a95-cd93-8e8c5f2743b5"
      },
      "source": [
        "pera=\"mama ama a ema\"\n",
        "pera2=[i for i in pera if i=='a']\n",
        "print(pera2)\n",
        "\n",
        "print(len(pera2))"
      ],
      "execution_count": 66,
      "outputs": [
        {
          "output_type": "stream",
          "text": [
            "['a', 'a', 'a', 'a', 'a', 'a']\n",
            "6\n"
          ],
          "name": "stdout"
        }
      ]
    }
  ]
}