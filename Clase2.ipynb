{
  "nbformat": 4,
  "nbformat_minor": 0,
  "metadata": {
    "colab": {
      "name": "Clase2.ipynb",
      "provenance": [],
      "authorship_tag": "ABX9TyOWXzEb8oifQm0zJrNsZfrN",
      "include_colab_link": true
    },
    "kernelspec": {
      "name": "python3",
      "display_name": "Python 3"
    },
    "language_info": {
      "name": "python"
    }
  },
  "cells": [
    {
      "cell_type": "markdown",
      "metadata": {
        "id": "view-in-github",
        "colab_type": "text"
      },
      "source": [
        "<a href=\"https://colab.research.google.com/github/AdrianaMorenoGutierrez/MujeresDigitales/blob/main/Clase2.ipynb\" target=\"_parent\"><img src=\"https://colab.research.google.com/assets/colab-badge.svg\" alt=\"Open In Colab\"/></a>"
      ]
    },
    {
      "cell_type": "code",
      "metadata": {
        "id": "5mpv3PhexHPm"
      },
      "source": [
        ""
      ],
      "execution_count": null,
      "outputs": []
    },
    {
      "cell_type": "code",
      "metadata": {
        "colab": {
          "base_uri": "https://localhost:8080/"
        },
        "id": "LifBbCjCxLKK",
        "outputId": "eb64eabf-b123-441b-d717-8a290cc37eaa"
      },
      "source": [
        "numero_botellas=12\n",
        "print(numero_botellas + 8)\n"
      ],
      "execution_count": 1,
      "outputs": [
        {
          "output_type": "stream",
          "text": [
            "20\n"
          ],
          "name": "stdout"
        }
      ]
    },
    {
      "cell_type": "code",
      "metadata": {
        "colab": {
          "base_uri": "https://localhost:8080/"
        },
        "id": "DEVNThyrxZLb",
        "outputId": "3a75becf-505a-4f36-c399-dce5f208d71a"
      },
      "source": [
        "numero_botellas=12\n",
        "numero_botellas=numero_botellas + 8\n",
        "print(numero_botellas)"
      ],
      "execution_count": 3,
      "outputs": [
        {
          "output_type": "stream",
          "text": [
            "20\n"
          ],
          "name": "stdout"
        }
      ]
    },
    {
      "cell_type": "markdown",
      "metadata": {
        "id": "FQkz5BUmxp59"
      },
      "source": [
        "Sumas entre los diferentes tipos de variables"
      ]
    },
    {
      "cell_type": "code",
      "metadata": {
        "colab": {
          "base_uri": "https://localhost:8080/"
        },
        "id": "SL6wA3bsxtGC",
        "outputId": "88256bcf-b7ef-4842-b3c1-90fe5c6efbad"
      },
      "source": [
        "q1=100\n",
        "q2=24.5\n",
        "print(type(q1))\n",
        "print(type(q2))\n",
        "print(type(q1+q2))"
      ],
      "execution_count": 5,
      "outputs": [
        {
          "output_type": "stream",
          "text": [
            "<class 'int'>\n",
            "<class 'float'>\n",
            "<class 'float'>\n"
          ],
          "name": "stdout"
        }
      ]
    },
    {
      "cell_type": "code",
      "metadata": {
        "colab": {
          "base_uri": "https://localhost:8080/",
          "height": 231
        },
        "id": "pGjyPhxhyEOU",
        "outputId": "680522a6-2bfe-4664-c754-a837ed3bd9a1"
      },
      "source": [
        "v1=\"quiero\"\n",
        "v2=\"un celular\"\n",
        "v3=v1+\" \"+v2\n",
        "print(v1+v2)\n",
        "print(v1,+v2)\n",
        "print(v3)\n"
      ],
      "execution_count": 9,
      "outputs": [
        {
          "output_type": "stream",
          "text": [
            "quieroun celular\n"
          ],
          "name": "stdout"
        },
        {
          "output_type": "error",
          "ename": "TypeError",
          "evalue": "ignored",
          "traceback": [
            "\u001b[0;31m---------------------------------------------------------------------------\u001b[0m",
            "\u001b[0;31mTypeError\u001b[0m                                 Traceback (most recent call last)",
            "\u001b[0;32m<ipython-input-9-bc423bc26387>\u001b[0m in \u001b[0;36m<module>\u001b[0;34m()\u001b[0m\n\u001b[1;32m      3\u001b[0m \u001b[0mv3\u001b[0m\u001b[0;34m=\u001b[0m\u001b[0mv1\u001b[0m\u001b[0;34m+\u001b[0m\u001b[0;34m\" \"\u001b[0m\u001b[0;34m+\u001b[0m\u001b[0mv2\u001b[0m\u001b[0;34m\u001b[0m\u001b[0;34m\u001b[0m\u001b[0m\n\u001b[1;32m      4\u001b[0m \u001b[0mprint\u001b[0m\u001b[0;34m(\u001b[0m\u001b[0mv1\u001b[0m\u001b[0;34m+\u001b[0m\u001b[0mv2\u001b[0m\u001b[0;34m)\u001b[0m\u001b[0;34m\u001b[0m\u001b[0;34m\u001b[0m\u001b[0m\n\u001b[0;32m----> 5\u001b[0;31m \u001b[0mprint\u001b[0m\u001b[0;34m(\u001b[0m\u001b[0mv1\u001b[0m\u001b[0;34m,\u001b[0m\u001b[0;34m+\u001b[0m\u001b[0mv2\u001b[0m\u001b[0;34m)\u001b[0m\u001b[0;34m\u001b[0m\u001b[0;34m\u001b[0m\u001b[0m\n\u001b[0m\u001b[1;32m      6\u001b[0m \u001b[0mprint\u001b[0m\u001b[0;34m(\u001b[0m\u001b[0mv3\u001b[0m\u001b[0;34m)\u001b[0m\u001b[0;34m\u001b[0m\u001b[0;34m\u001b[0m\u001b[0m\n",
            "\u001b[0;31mTypeError\u001b[0m: bad operand type for unary +: 'str'"
          ]
        }
      ]
    },
    {
      "cell_type": "code",
      "metadata": {
        "colab": {
          "base_uri": "https://localhost:8080/"
        },
        "id": "uXUvFbfeys8n",
        "outputId": "883a8ffb-1563-41ff-b6e3-5bb2a1d75bda"
      },
      "source": [
        "xq2=235\n",
        "xq3=400\n",
        "print(xq2-xq3)\n",
        "\n",
        "xq2=24.66\n",
        "xq3=4\n",
        "print(type(xq2-xq3))"
      ],
      "execution_count": 12,
      "outputs": [
        {
          "output_type": "stream",
          "text": [
            "-165\n",
            "<class 'float'>\n"
          ],
          "name": "stdout"
        }
      ]
    },
    {
      "cell_type": "code",
      "metadata": {
        "id": "KmSTrH5i0De0"
      },
      "source": [
        ""
      ],
      "execution_count": null,
      "outputs": []
    },
    {
      "cell_type": "markdown",
      "metadata": {
        "id": "uMQWZ9FqzfLk"
      },
      "source": [
        "**IMPORTANTE**\n",
        "La resta no funciona directamente para una variale tipo cadena\n",
        "\n",
        "EJEMPLO DE ERROR\n",
        "\n",
        "v1=\"quiero\"\n",
        "v2=\"un celular\"\n",
        "v3=v1+\" \"+v2\n",
        "print(v1-v2)\n",
        "**EJEMPLO DE ERROR, NO SE PUEDE RESTAR STRING, EN UN TIPO CADENA**"
      ]
    },
    {
      "cell_type": "code",
      "metadata": {
        "colab": {
          "base_uri": "https://localhost:8080/",
          "height": 129
        },
        "id": "6DX4mCz_zlsC",
        "outputId": "d0cfced6-d76d-47ac-dadc-92fa7ea42641"
      },
      "source": [
        "v1=\"quiero\"\n",
        "v2=\"un celular\"\n",
        "v3=v1+\" \"+v2\n",
        "print(v1-v2)\n",
        "**EJEMPLO DE ERROR, NO SE PUEDE RESTAR STRING, EN UN TIPO CADENA**\n"
      ],
      "execution_count": 15,
      "outputs": [
        {
          "output_type": "error",
          "ename": "SyntaxError",
          "evalue": "ignored",
          "traceback": [
            "\u001b[0;36m  File \u001b[0;32m\"<ipython-input-15-75cbef3ceed4>\"\u001b[0;36m, line \u001b[0;32m5\u001b[0m\n\u001b[0;31m    **EJEMPLO DE ERROR, NO SE PUEDE RESTAR STRING, EN UN TIPO CADENA**\u001b[0m\n\u001b[0m     ^\u001b[0m\n\u001b[0;31mSyntaxError\u001b[0m\u001b[0;31m:\u001b[0m invalid syntax\n"
          ]
        }
      ]
    },
    {
      "cell_type": "code",
      "metadata": {
        "id": "ZWhv6wNTzwX8"
      },
      "source": [
        "v1=\"5\"\n",
        "v2=\"2.3\""
      ],
      "execution_count": 17,
      "outputs": []
    },
    {
      "cell_type": "markdown",
      "metadata": {
        "id": "HyanbKCA0nzC"
      },
      "source": [
        "**MULTIPLICACIÓN**\n",
        "---\n",
        "Definamos la multiplicación como la suma de varias veces un número, cantidad de veces indicadas por el otro número. Ejemplo: 4x2=4+4=8\n",
        "El símbolo que se maneja es (*)"
      ]
    },
    {
      "cell_type": "code",
      "metadata": {
        "colab": {
          "base_uri": "https://localhost:8080/"
        },
        "id": "lcCzx-2J1BLb",
        "outputId": "20f79ee0-2fd0-4591-fa19-2b34ecd838a5"
      },
      "source": [
        "cali=5\n",
        "palmira=6\n",
        "print(cali*palmira)"
      ],
      "execution_count": 19,
      "outputs": [
        {
          "output_type": "stream",
          "text": [
            "30\n"
          ],
          "name": "stdout"
        }
      ]
    },
    {
      "cell_type": "code",
      "metadata": {
        "id": "W9kUOKUd1jp0"
      },
      "source": [
        ""
      ],
      "execution_count": null,
      "outputs": []
    },
    {
      "cell_type": "markdown",
      "metadata": {
        "id": "RHIMockl1Na3"
      },
      "source": [
        "**IMPORTANTE**\n",
        "Se aplicala ley conmutativa.\n",
        "Recordemos que la ley conmutativa es el orden de los factores no altera el resultado (Aplica para la suma y la multiplicación)"
      ]
    },
    {
      "cell_type": "code",
      "metadata": {
        "colab": {
          "base_uri": "https://localhost:8080/"
        },
        "id": "vmw4s9tX1l6v",
        "outputId": "2f37a1df-38f9-4bd4-ad63-094f4f694d56"
      },
      "source": [
        "cali=5\n",
        "palmira=6\n",
        "print(palmira*cali)"
      ],
      "execution_count": 20,
      "outputs": [
        {
          "output_type": "stream",
          "text": [
            "30\n"
          ],
          "name": "stdout"
        }
      ]
    },
    {
      "cell_type": "code",
      "metadata": {
        "id": "7_HPimHo1qhE"
      },
      "source": [
        ""
      ],
      "execution_count": 21,
      "outputs": []
    },
    {
      "cell_type": "markdown",
      "metadata": {
        "id": "__gxb_231rNz"
      },
      "source": [
        "**División**\n",
        "---\n",
        "ACLARACIÓN: **NO** aplica la ley conmutativa. El símbolo de división (/)"
      ]
    },
    {
      "cell_type": "code",
      "metadata": {
        "colab": {
          "base_uri": "https://localhost:8080/"
        },
        "id": "tOUbJDf_16x1",
        "outputId": "4d563388-4103-4745-beec-75c19b88660d"
      },
      "source": [
        "a=20\n",
        "b=4\n",
        "print(a/b)\n",
        "\n",
        "a=20\n",
        "b=4\n",
        "print(a/b, b/a, a+b, a-b)"
      ],
      "execution_count": 22,
      "outputs": [
        {
          "output_type": "stream",
          "text": [
            "5.0\n",
            "5.0 0.2 24 16\n"
          ],
          "name": "stdout"
        }
      ]
    },
    {
      "cell_type": "markdown",
      "metadata": {
        "id": "uGnI0kTi2Wtx"
      },
      "source": [
        "Para el **print** podemos separra las operaciones por variable con(,). Lo cual , no afectara la impresión de los resultados por operación asignada."
      ]
    },
    {
      "cell_type": "markdown",
      "metadata": {
        "id": "T0qjoO0W296G"
      },
      "source": [
        "**Tipos de división**\n",
        "---\n",
        "1. Divisón exacta (/)\n",
        "2. División inexacta (//)"
      ]
    },
    {
      "cell_type": "code",
      "metadata": {
        "id": "Q3dXl0kd30ZI"
      },
      "source": [
        ""
      ],
      "execution_count": null,
      "outputs": []
    },
    {
      "cell_type": "code",
      "metadata": {
        "colab": {
          "base_uri": "https://localhost:8080/",
          "height": 265
        },
        "id": "vZweTVvQ3Sle",
        "outputId": "6175bb47-0194-46a9-dc2e-745a50b27d77"
      },
      "source": [
        "print(15//3)\n",
        "print(15//4)\n",
        "print(15/3)\n",
        "print(15/4)\n",
        "print(2/0)"
      ],
      "execution_count": 28,
      "outputs": [
        {
          "output_type": "stream",
          "text": [
            "5\n",
            "3\n",
            "5.0\n",
            "3.75\n"
          ],
          "name": "stdout"
        },
        {
          "output_type": "error",
          "ename": "ZeroDivisionError",
          "evalue": "ignored",
          "traceback": [
            "\u001b[0;31m---------------------------------------------------------------------------\u001b[0m",
            "\u001b[0;31mZeroDivisionError\u001b[0m                         Traceback (most recent call last)",
            "\u001b[0;32m<ipython-input-28-d533216885d8>\u001b[0m in \u001b[0;36m<module>\u001b[0;34m()\u001b[0m\n\u001b[1;32m      3\u001b[0m \u001b[0mprint\u001b[0m\u001b[0;34m(\u001b[0m\u001b[0;36m15\u001b[0m\u001b[0;34m/\u001b[0m\u001b[0;36m3\u001b[0m\u001b[0;34m)\u001b[0m\u001b[0;34m\u001b[0m\u001b[0;34m\u001b[0m\u001b[0m\n\u001b[1;32m      4\u001b[0m \u001b[0mprint\u001b[0m\u001b[0;34m(\u001b[0m\u001b[0;36m15\u001b[0m\u001b[0;34m/\u001b[0m\u001b[0;36m4\u001b[0m\u001b[0;34m)\u001b[0m\u001b[0;34m\u001b[0m\u001b[0;34m\u001b[0m\u001b[0m\n\u001b[0;32m----> 5\u001b[0;31m \u001b[0mprint\u001b[0m\u001b[0;34m(\u001b[0m\u001b[0;36m2\u001b[0m\u001b[0;34m/\u001b[0m\u001b[0;36m0\u001b[0m\u001b[0;34m)\u001b[0m\u001b[0;34m\u001b[0m\u001b[0;34m\u001b[0m\u001b[0m\n\u001b[0m",
            "\u001b[0;31mZeroDivisionError\u001b[0m: division by zero"
          ]
        }
      ]
    },
    {
      "cell_type": "code",
      "metadata": {
        "id": "Qihye8wX31I4"
      },
      "source": [
        "Nota: Operación de divisón, al igual que una división normal **No** es posible dividir enrtre cero, ¿por qué? Porque en matemáticas es un resultado indefinido."
      ],
      "execution_count": null,
      "outputs": []
    },
    {
      "cell_type": "markdown",
      "metadata": {
        "id": "mmC_-sSX4TkE"
      },
      "source": [
        "4. Potenciación\n",
        "5. Módulo"
      ]
    },
    {
      "cell_type": "markdown",
      "metadata": {
        "id": "A-pg0w054Ygq"
      },
      "source": [
        "**Potenciación**\n",
        "\n",
        "---\n",
        "En Python el símbolo es (**).\n",
        "El primer valor es la base y el último valor el exponente."
      ]
    },
    {
      "cell_type": "markdown",
      "metadata": {
        "id": "ZlC8bJ6M47j8"
      },
      "source": [
        ""
      ]
    },
    {
      "cell_type": "code",
      "metadata": {
        "colab": {
          "base_uri": "https://localhost:8080/"
        },
        "id": "Wwxb9Jtg4nbd",
        "outputId": "e72024f4-9a11-47e4-93ea-d2bec97a44bf"
      },
      "source": [
        "print(3**3)\n",
        "print(2**4)"
      ],
      "execution_count": 29,
      "outputs": [
        {
          "output_type": "stream",
          "text": [
            "27\n"
          ],
          "name": "stdout"
        }
      ]
    },
    {
      "cell_type": "markdown",
      "metadata": {
        "id": "Vpa8iMh249gZ"
      },
      "source": [
        "**Módulo**\n",
        "\n",
        "---\n",
        "Le llamamos módulo al residuo de la operación de división.\n",
        "El símbolo usado para mostrar el residuo es (%)\n",
        "El primer valor es el dividendo y el último valor es el divisor."
      ]
    },
    {
      "cell_type": "code",
      "metadata": {
        "colab": {
          "base_uri": "https://localhost:8080/"
        },
        "id": "geT1eWkY5PsY",
        "outputId": "abe3e346-6088-4699-88c7-71a871ac9d2c"
      },
      "source": [
        "print(88%9)"
      ],
      "execution_count": 32,
      "outputs": [
        {
          "output_type": "stream",
          "text": [
            "7\n"
          ],
          "name": "stdout"
        }
      ]
    },
    {
      "cell_type": "code",
      "metadata": {
        "id": "625jfgUi8B8M"
      },
      "source": [
        "**OPERADORES DE COMPARACIÓN**\n",
        "\n",
        "---\n",
        "\n",
        "Sirven para comparar varios valores. En la vida cotidiana a la hora de tomar decisiones tenemos que decidir entre "
      ],
      "execution_count": null,
      "outputs": []
    },
    {
      "cell_type": "code",
      "metadata": {
        "colab": {
          "base_uri": "https://localhost:8080/"
        },
        "id": "7jpjkdgE9pkT",
        "outputId": "faf5869d-8393-4cbe-85f1-ca29557e3b11"
      },
      "source": [
        "x=\"casa\"\n",
        "z=\"caza\"\n",
        "print(x==z)"
      ],
      "execution_count": 33,
      "outputs": [
        {
          "output_type": "stream",
          "text": [
            "False\n"
          ],
          "name": "stdout"
        }
      ]
    },
    {
      "cell_type": "code",
      "metadata": {
        "id": "q904EFs0-GGR"
      },
      "source": [
        ""
      ],
      "execution_count": null,
      "outputs": []
    },
    {
      "cell_type": "code",
      "metadata": {
        "id": "90dj6VDUA7jC"
      },
      "source": [
        ""
      ],
      "execution_count": null,
      "outputs": []
    },
    {
      "cell_type": "markdown",
      "metadata": {
        "id": "2-fPsqWuA8G9"
      },
      "source": [
        "**Mayor o igual que**\n",
        "\n",
        "Es similar al mayor que, con la diferencia de que la forma en dar resultado verdadero es sí ambos números son iguales y flexibiliza dado verdadero de igual forma su el valor de la izquierda es mayor que el de la derecha. El símbolo es (>=)."
      ]
    },
    {
      "cell_type": "code",
      "metadata": {
        "colab": {
          "base_uri": "https://localhost:8080/"
        },
        "id": "PJDWuoemBSVs",
        "outputId": "07805924-c26c-4437-fa8c-c0fa810c295c"
      },
      "source": [
        "x=10\n",
        "y=10\n",
        "print(x>=y)\n",
        "\n",
        "x=10\n",
        "y=5\n",
        "print(x>=y)"
      ],
      "execution_count": 35,
      "outputs": [
        {
          "output_type": "stream",
          "text": [
            "True\n",
            "True\n"
          ],
          "name": "stdout"
        }
      ]
    },
    {
      "cell_type": "markdown",
      "metadata": {
        "id": "a4FSL87sHNLl"
      },
      "source": [
        ""
      ]
    },
    {
      "cell_type": "markdown",
      "metadata": {
        "id": "yzZQEQL4BmP8"
      },
      "source": [
        "**Menor o igual que**\n",
        "\n",
        "---\n",
        "El símbolo es (<=)"
      ]
    },
    {
      "cell_type": "code",
      "metadata": {
        "colab": {
          "base_uri": "https://localhost:8080/"
        },
        "id": "UHa16-58Bv1T",
        "outputId": "90b676dc-3c48-4dc3-922d-7230dbb4d977"
      },
      "source": [
        "c=45\n",
        "print(c<=46)"
      ],
      "execution_count": 36,
      "outputs": [
        {
          "output_type": "stream",
          "text": [
            "True\n"
          ],
          "name": "stdout"
        }
      ]
    },
    {
      "cell_type": "code",
      "metadata": {
        "id": "Dzt2zJ7NB_if"
      },
      "source": [
        ""
      ],
      "execution_count": null,
      "outputs": []
    },
    {
      "cell_type": "markdown",
      "metadata": {
        "id": "39MnZsC1CWS-"
      },
      "source": [
        "**Tener en cuenta:** En comparaciones los resultados que nos arrojan siempre es de tipo Booleano es decir: True or False (Verdadero o Falso)"
      ]
    },
    {
      "cell_type": "markdown",
      "metadata": {
        "id": "Op3G_TpjCdDr"
      },
      "source": [
        "**OPERADORES LÓGICOS**\n",
        "\n",
        "---\n",
        "Python incluye tres operadores lógicos base:\n",
        "1. AND(y)\n",
        "2. OR(o)\n",
        "3. NOT(negación)\n",
        "\n",
        "Los operadores lógicos funcionan solo con valores o variables booleanas, a su vez, devuelven como respuesta valores booleanos.\n"
      ]
    },
    {
      "cell_type": "markdown",
      "metadata": {
        "id": "zeN2C-pLC7x5"
      },
      "source": [
        "**Operador AND**\n",
        "\n",
        "---\n",
        "Este operador solo devolverá (verdadero) si ambos valores lo son. \n",
        "¿Cómo usar el operador AND?\n",
        "Para usar este operador basta con escribir un valor Booleano, luego, la palabra \"and\" (en minúscula) y por último otro labor booleano.\n",
        "\n",
        "**Ejemplo:**\n",
        "\n"
      ]
    },
    {
      "cell_type": "code",
      "metadata": {
        "colab": {
          "base_uri": "https://localhost:8080/"
        },
        "id": "ykG9MKhzDcN1",
        "outputId": "141a0b26-0be2-4e4e-ed18-2eb9fcb05aa4"
      },
      "source": [
        "print(True and False)"
      ],
      "execution_count": 37,
      "outputs": [
        {
          "output_type": "stream",
          "text": [
            "False\n"
          ],
          "name": "stdout"
        }
      ]
    },
    {
      "cell_type": "markdown",
      "metadata": {
        "id": "t1Z6d3NMDm7e"
      },
      "source": [
        "**Ejemplo 2 de contextualización**\n",
        "\n",
        "1. True and True\n",
        "2. True and False = False\n",
        "3. False and False = False\n",
        "4. False and True = False"
      ]
    },
    {
      "cell_type": "markdown",
      "metadata": {
        "id": "t_GViYLjEBnS"
      },
      "source": [
        "**Operador OR**\n",
        "\n",
        "---\n",
        "A diferencia del operador AND, Or devuelve a todo verdadero, a menos que ambos valores sean **FALSOS**"
      ]
    },
    {
      "cell_type": "code",
      "metadata": {
        "id": "6MzUDVuNEQvx"
      },
      "source": [
        "print(True or True)\n",
        "print(False or False)"
      ],
      "execution_count": null,
      "outputs": []
    },
    {
      "cell_type": "code",
      "metadata": {
        "id": "2PJf6dX-Efj1"
      },
      "source": [
        ""
      ],
      "execution_count": null,
      "outputs": []
    },
    {
      "cell_type": "code",
      "metadata": {
        "id": "ghLDCYCfEiTw"
      },
      "source": [
        ""
      ],
      "execution_count": null,
      "outputs": []
    },
    {
      "cell_type": "markdown",
      "metadata": {
        "id": "-QsobytAEinK"
      },
      "source": [
        "**Ejemplo de contextualización de OR:**\n",
        "\n",
        "**1. False or False = False **\n",
        "True or True = True\n",
        "True or False = True\n",
        "False or False = False\n",
        "False or True = True"
      ]
    },
    {
      "cell_type": "code",
      "metadata": {
        "colab": {
          "base_uri": "https://localhost:8080/"
        },
        "id": "ZFNaUtdGE8Iy",
        "outputId": "75df5a55-8839-4a1d-eed3-bdb2f3df95c9"
      },
      "source": [
        "a=3\n",
        "b=2\n",
        "print(a>4 or a==4)\n",
        "print(b==b and a>=b)"
      ],
      "execution_count": 40,
      "outputs": [
        {
          "output_type": "stream",
          "text": [
            "False\n",
            "True\n"
          ],
          "name": "stdout"
        }
      ]
    },
    {
      "cell_type": "code",
      "metadata": {
        "id": "sK_6dLqkFgtg"
      },
      "source": [
        "**Operador NOT**\n",
        "\n",
        "---\n",
        "Este operador es negación, es español \"No\". Este operador es muy especial, dado que por sí solo no sirve para hacer ninguna operación, lo único que hace es negar, o en palabras más simples, invertir el valor el valor booleano que viene después de él.\n",
        "\n"
      ],
      "execution_count": null,
      "outputs": []
    },
    {
      "cell_type": "code",
      "metadata": {
        "colab": {
          "base_uri": "https://localhost:8080/"
        },
        "id": "uAoMnu-qGQVQ",
        "outputId": "e4e48380-def6-4338-9a30-33dd6733ec66"
      },
      "source": [
        "print(not False)\n",
        "print(not True)"
      ],
      "execution_count": 42,
      "outputs": [
        {
          "output_type": "stream",
          "text": [
            "True\n",
            "False\n"
          ],
          "name": "stdout"
        }
      ]
    },
    {
      "cell_type": "markdown",
      "metadata": {
        "id": "xO0FXFwVHOrF"
      },
      "source": [
        "**PRECEDENCIA DE OPERADORES**\n",
        "\n",
        "--\n",
        "Es muy importante manejar el orden de las operaciones al realizarlas, para no caer en problemas de código error.\n",
        "\n",
        "El ordén debe ser:\n",
        "1. De izquierda a derecha\n",
        "2. Parentesis\n",
        "3. Potenciación o radicación\n",
        "4. Multiplicación y división\n",
        "5. Suma y resta\n",
        "\n",
        "**Ejemplo:**\n",
        "4-2(10)\n",
        "1. Primero el parentesis:\n",
        "4-2*10=10\n",
        "2. Se continúa con la multiplicación:\n",
        "4-20\n",
        "3. Por último la resta:\n",
        "4-20=16\n",
        "\n",
        "¿cuál es el resultado de la siguiente operación?"
      ]
    },
    {
      "cell_type": "code",
      "metadata": {
        "colab": {
          "base_uri": "https://localhost:8080/"
        },
        "id": "N23kpLH-IoGT",
        "outputId": "8113b553-e063-42b1-ce2c-7180cd0e1e3a"
      },
      "source": [
        "a=False\n",
        "b=True\n",
        "c=True\n",
        "print(not c and (a or b))"
      ],
      "execution_count": 43,
      "outputs": [
        {
          "output_type": "stream",
          "text": [
            "False\n"
          ],
          "name": "stdout"
        }
      ]
    },
    {
      "cell_type": "code",
      "metadata": {
        "colab": {
          "base_uri": "https://localhost:8080/"
        },
        "id": "Qj04w1vzJC0W",
        "outputId": "08d5ea67-3e49-491e-f582-2252d1f28a38"
      },
      "source": [
        "print(3-2*(13-5))"
      ],
      "execution_count": 44,
      "outputs": [
        {
          "output_type": "stream",
          "text": [
            "-13\n"
          ],
          "name": "stdout"
        }
      ]
    },
    {
      "cell_type": "markdown",
      "metadata": {
        "id": "M1ls1dG2JaTN"
      },
      "source": [
        "**RESÚMEN**\n",
        "\n",
        "\n",
        "---\n",
        "1.Aplicación de ley conmutativa: Sólo para suma y esta (operadores básicos)\n",
        "2. Los resultados con operadores lógicos son de tipo booleano.\n",
        "3. No se puede realizar resta entre variables de tipo cadena (El procedimiento si abarca números es la conversión desde el inicio)\n",
        "4. Sí aplicamos el condicional AND, para que el resultado sea TRUE, la única forma es que ambos valores sean verdaderos.\n",
        "5. En cambio con el OR, si cumple que alguno de los dos valores son TRUE, el resultado será TRUE."
      ]
    }
  ]
}