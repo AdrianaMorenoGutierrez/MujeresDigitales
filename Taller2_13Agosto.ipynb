{
  "nbformat": 4,
  "nbformat_minor": 0,
  "metadata": {
    "colab": {
      "name": "Taller2_13Agosto.ipynb",
      "provenance": [],
      "authorship_tag": "ABX9TyMSBeY0Xdatsn6dida1zoPs",
      "include_colab_link": true
    },
    "kernelspec": {
      "name": "python3",
      "display_name": "Python 3"
    },
    "language_info": {
      "name": "python"
    }
  },
  "cells": [
    {
      "cell_type": "markdown",
      "metadata": {
        "id": "view-in-github",
        "colab_type": "text"
      },
      "source": [
        "<a href=\"https://colab.research.google.com/github/AdrianaMorenoGutierrez/MujeresDigitales/blob/main/Taller2_13Agosto.ipynb\" target=\"_parent\"><img src=\"https://colab.research.google.com/assets/colab-badge.svg\" alt=\"Open In Colab\"/></a>"
      ]
    },
    {
      "cell_type": "code",
      "metadata": {
        "id": "DDkqrfP57GWE"
      },
      "source": [
        ""
      ],
      "execution_count": null,
      "outputs": []
    },
    {
      "cell_type": "markdown",
      "metadata": {
        "id": "xf8C751T7wiz"
      },
      "source": [
        "**Recordatorio**\n",
        "\n"
      ]
    },
    {
      "cell_type": "markdown",
      "metadata": {
        "id": "OxIm4s-FAFrw"
      },
      "source": [
        "**Ejercicio de práctica**\n",
        "\n",
        "----\n",
        "\n",
        "Se le pide a la analista realizar una estimación poblacional a partir de información descriptiva relevante sobre la población de los países en vía de desarrollo,\n",
        "\n",
        "Para ello de inicio se solicita que se cree un programa que permita ingresar como prueba 5 países y su respectiva población e identificar que país tiene la mayor cantidad de habitantes.\n",
        "\n",
        "\n"
      ]
    },
    {
      "cell_type": "code",
      "metadata": {
        "colab": {
          "base_uri": "https://localhost:8080/"
        },
        "id": "XpEhBAI5AJDv",
        "outputId": "8c866664-00eb-497a-ec76-1c524bdca1be"
      },
      "source": [
        "#EJEMPLO DE CLASE\n",
        "def poblacion():\n",
        "  pais=[]\n",
        "  for x in range(2):\n",
        "    nombre=input(\"Ingresa el nombre del pais:\")\n",
        "    cant=int(input(\"Ingrese la cantidad de habitantes:\"))\n",
        "    pais.append((nombre,cant))\n",
        "  return pais\n",
        "\n",
        "def view(pais):\n",
        "  print(\"Habitantes por país:\")\n",
        "  for x in range(len(pais)):\n",
        "    print(pais[x][0],pais[x][1])\n",
        "\n",
        "def mayor(pais):\n",
        "  p=0\n",
        "  for x in range(1,len(pais)):\n",
        "    if pais[x][1]>pais[p][1]:\n",
        "      p=x\n",
        "    print(\"El País con la más alta población registrada es:\",pais[p][0])\n",
        "\n",
        "pais=poblacion()\n",
        "view(pais)\n",
        "mayor(pais)"
      ],
      "execution_count": 59,
      "outputs": [
        {
          "output_type": "stream",
          "text": [
            "Ingresa el nombre del pais:co\n",
            "Ingrese la cantidad de habitantes:12345\n",
            "Ingresa el nombre del pais:peru\n",
            "Ingrese la cantidad de habitantes:54654134\n",
            "Ingresa el nombre del pais:brasil\n",
            "Ingrese la cantidad de habitantes:546464\n",
            "Habitantes por país:\n",
            "co 12345\n",
            "peru 54654134\n",
            "brasil 546464\n",
            "El País con la más alta población registrada es: peru\n",
            "El País con la más alta población registrada es: peru\n"
          ],
          "name": "stdout"
        }
      ]
    },
    {
      "cell_type": "code",
      "metadata": {
        "id": "PMM3lSaGE5yF"
      },
      "source": [
        ""
      ],
      "execution_count": null,
      "outputs": []
    },
    {
      "cell_type": "markdown",
      "metadata": {
        "id": "WZ8U49wjFN2a"
      },
      "source": [
        "**TALLER 2**\n",
        "---#\n",
        "\n",
        "Se solcita realizar un programa que permita identificar el nivel de cumplimiento del área de ventas de la empresa AVA. Entre los prinicipales requerimientos se encuentran los siguientes:\n",
        "\n",
        "1. Permite ingresar la cantidad de vendedores del área de ventas.\n",
        "2. Permite ingresar la puntiación por cada uno de ellos (escala de 1 a 10).\n",
        "3. El programa debe permitir identificar el vendedor con peor rendimiento y mejor rendimiento\n",
        "4. Obtener también el promedio general del nivel de cumplimiento del área de ventas.\n",
        "\n",
        "Nota: Si hay empate en la puntuación para definir el primer y último puesto, se define por order alfabetico.\n",
        "\n",
        "\n",
        "\n",
        "\n"
      ]
    },
    {
      "cell_type": "code",
      "metadata": {
        "colab": {
          "base_uri": "https://localhost:8080/"
        },
        "id": "rtZfkdIUnNe-",
        "outputId": "77bca7b8-bb6c-4d97-a238-ad49d36c9693"
      },
      "source": [
        "def nivelcumplimiento():\n",
        "  vendedor=[]\n",
        "  for x in range(2):\n",
        "    nomvendedor=input(\"Ingresa el nombre del vendedor:\")\n",
        "    puntvendedor=int(input(\"Ingrese la puntuación del rendimiento del vendedor, en escala de 1 a 10   :\"))\n",
        "    vendedor.append((nomvendedor,puntvendedor))\n",
        "  return vendedor\n",
        "\n",
        "def view(vendedor):\n",
        "  print(\"Vendedores de la empresa AVA:\")\n",
        "  for x in range(len(vendedor)):\n",
        "    print(vendedor[x][0],vendedor[x][1])\n",
        "\n",
        "#Para definir el vendedor con mayor rendimiento \n",
        "def mayor(vendedor):\n",
        "  v=0\n",
        "  for x in range(1,len(vendedor)):\n",
        "    if vendedor[x][1]>vendedor[v][1]:\n",
        "      v=x\n",
        "    print(\"El Vendedor con mayor rendimiento es:\",vendedor[v][0])\n",
        "\n",
        "#Para definir el vendedor con menor rendimiento \n",
        "def menor(vendedor):\n",
        "  v=0\n",
        "  for x in range(1,len(vendedor)):\n",
        "    if vendedor[x][1]<vendedor[v][1]:\n",
        "      v=x\n",
        "    print(\"El Vendedor con menor rendimiento es:\",vendedor[v][0])\n",
        "    \n",
        "    vendedor=[puntvendedor]\n",
        "    sorted(vendedor)\n",
        "\n",
        "#Para definir el promedio general del nivel de cumplimiento del área de ventas.\n",
        "\n",
        "import numpy\n",
        "data = [1, 2, 3, 4, 5, 6, 7, 8, 9, 10]\n",
        "mean = numpy.mean(data)\n",
        "print(mean)\n",
        "\n",
        "vendedor=nivelcumplimiento()\n",
        "view(vendedor)\n",
        "mayor(vendedor)\n",
        "menor(vendedor)"
      ],
      "execution_count": 103,
      "outputs": [
        {
          "output_type": "stream",
          "text": [
            "5.5\n",
            "Ingresa el nombre del vendedor:ana\n",
            "Ingrese la puntuación del rendimiento del vendedor, en escala de 1 a 10   :1\n",
            "Ingresa el nombre del vendedor:pepe\n",
            "Ingrese la puntuación del rendimiento del vendedor, en escala de 1 a 10   :1\n",
            "Vendedores de la empresa AVA:\n",
            "ana 1\n",
            "pepe 1\n",
            "El Vendedor con mayor rendimiento es: ana\n",
            "El Vendedor con menor rendimiento es: ana\n"
          ],
          "name": "stdout"
        }
      ]
    },
    {
      "cell_type": "code",
      "metadata": {
        "colab": {
          "base_uri": "https://localhost:8080/"
        },
        "id": "b8zqYRB7B2GH",
        "outputId": "54d48cbb-44c4-4e7d-e566-f5a014b51244"
      },
      "source": [
        "#EJEMPLO DE CLASE\n",
        "\n",
        "se=[1,10,7,9,3,15]\n",
        "sorted(se)"
      ],
      "execution_count": 16,
      "outputs": [
        {
          "output_type": "execute_result",
          "data": {
            "text/plain": [
              "[1, 3, 7, 9, 10, 15]"
            ]
          },
          "metadata": {
            "tags": []
          },
          "execution_count": 16
        }
      ]
    }
  ]
}