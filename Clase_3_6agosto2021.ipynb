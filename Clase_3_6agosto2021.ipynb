{
  "nbformat": 4,
  "nbformat_minor": 0,
  "metadata": {
    "colab": {
      "name": "Clase_3_6agosto2021.ipynb",
      "provenance": [],
      "authorship_tag": "ABX9TyP9EW9H04l0ZTb2o8SsTPYE",
      "include_colab_link": true
    },
    "kernelspec": {
      "name": "python3",
      "display_name": "Python 3"
    },
    "language_info": {
      "name": "python"
    }
  },
  "cells": [
    {
      "cell_type": "markdown",
      "metadata": {
        "id": "view-in-github",
        "colab_type": "text"
      },
      "source": [
        "<a href=\"https://colab.research.google.com/github/AdrianaMorenoGutierrez/MujeresDigitales/blob/main/Clase_3_6agosto2021.ipynb\" target=\"_parent\"><img src=\"https://colab.research.google.com/assets/colab-badge.svg\" alt=\"Open In Colab\"/></a>"
      ]
    },
    {
      "cell_type": "code",
      "metadata": {
        "id": "4lExxA_K3Acr"
      },
      "source": [
        ""
      ],
      "execution_count": null,
      "outputs": []
    },
    {
      "cell_type": "markdown",
      "metadata": {
        "id": "EWdelT9b4m8X"
      },
      "source": [
        "**Estrcutura de Condicionales(Control)**\n",
        "\n",
        "---\n",
        "Al momento de construir una instrucciones de tipo condicional se deberá comprender que dichas instrucciones están diseñadas para ayudar en la toma de decisiones:\n",
        "\n",
        "Ejemplo:\n",
        "**Sí** Pedro va a la tienda por la izquierda llegará más rápido, sino se demorará más. \n",
        "\n",
        "Existen varios tipos de instrucciones, algunos pueden ser simples y otros múltiples.\n",
        "Sin embargo, solo se generan dos resultados.\n",
        "1. Verdadero\n",
        "2. Falso\n",
        "\n",
        "Em Python tales resultados serían True o False.\n"
      ]
    },
    {
      "cell_type": "markdown",
      "metadata": {
        "id": "YSRCbmVx6L5B"
      },
      "source": [
        "Para aplicar los condicionales que veremos a continuación, debemos recordar los comandos de operadores matemáticos vistos en la clase anterior:\n",
        "\n",
        "1. Igualdad (==) // 2==7 // False\n",
        "2. Diferencia (!=) // rosado!=verde // True\n",
        "3. Menor que (<) // 12<11 // False \n",
        "4. Mayor que (>) // 1>1.5 // False \n",
        "5. Menor o igual que (<=) // 30<=30// True\n",
        "6. Mayor o igual que (>=) // 1>=2 // False\n"
      ]
    },
    {
      "cell_type": "markdown",
      "metadata": {
        "id": "oj3ur-cy7Ls0"
      },
      "source": [
        "En condiciones múltiples, podemos enlazar los operadores lógicos:\n",
        "\n",
        "1. y(and)\n",
        "2. o(or)\n",
        "3. no (no)\n",
        "\n",
        "Ejemplos:\n",
        "\n",
        "1. 3==8 and 8>12 // False\n",
        "2. 3==3 or 15<3 True\n",
        "3. not True // False"
      ]
    },
    {
      "cell_type": "markdown",
      "metadata": {
        "id": "WzoB5Bti76yj"
      },
      "source": [
        "Para aplicar los operadores matemáticos y lógicos tenemos que tener en cuenta lo que llamamos **Diagramas de flujos**, esto nos permite una mayor organización de las ideas para la toma de decisiones.\n"
      ]
    },
    {
      "cell_type": "markdown",
      "metadata": {
        "id": "Fztr7qP9BPGp"
      },
      "source": [
        "**El comando IF**\n",
        "\n",
        "---\n",
        "Este comando permite evaluar si una snetencia es verdadera o falsa. Es decir, se ejecuta una acción establecida mediante un código de instrucción o varias instrucciones inmediatamente en las líneas sigueintes a dicha condición"
      ]
    },
    {
      "cell_type": "code",
      "metadata": {
        "colab": {
          "base_uri": "https://localhost:8080/"
        },
        "id": "I0gjBqqOBiRP",
        "outputId": "b6a030b9-5888-46c4-aa41-0d76c125ea61"
      },
      "source": [
        "num=input('Escribir un número cualquiera:')\n",
        "if num == 200:\n",
        "  print(\"Escribiste el 200\")"
      ],
      "execution_count": null,
      "outputs": [
        {
          "output_type": "stream",
          "text": [
            "Escribir un número cualquiera:100\n"
          ],
          "name": "stdout"
        }
      ]
    },
    {
      "cell_type": "markdown",
      "metadata": {
        "id": "eqFJPma1CMgH"
      },
      "source": [
        "**El comando ELSE**\n",
        "\n",
        "---\n",
        "En español es conocido como \"si no\". Este comando permite relacionar las acciones que debería realizar en caso de que la condición sea falsa."
      ]
    },
    {
      "cell_type": "code",
      "metadata": {
        "id": "e3lc4BBHCisv",
        "colab": {
          "base_uri": "https://localhost:8080/"
        },
        "outputId": "8bb77498-efb5-46fa-f3ff-bec2d5f0d263"
      },
      "source": [
        "num=int(input('Escribir un número cualquiera:'))\n",
        "if num == 200:\n",
        "  print(\"Escribiste el 200\")\n",
        "else:\n",
        "  print(\"El número escrito No ES 200\")\n",
        "  print(type(num))  "
      ],
      "execution_count": 9,
      "outputs": [
        {
          "output_type": "stream",
          "text": [
            "Escribir un número cualquiera:100\n",
            "El número escrito No ES 200\n",
            "<class 'int'>\n"
          ],
          "name": "stdout"
        }
      ]
    },
    {
      "cell_type": "code",
      "metadata": {
        "id": "FWcEsKJoD3Ud"
      },
      "source": [
        "**El comando ELIF**\n",
        "\n",
        "---\n",
        "Significa \"sino, si\" y permite concatenar condiciones "
      ],
      "execution_count": null,
      "outputs": []
    },
    {
      "cell_type": "code",
      "metadata": {
        "colab": {
          "base_uri": "https://localhost:8080/"
        },
        "id": "kb9cJHbDEI7E",
        "outputId": "ea4629c3-33ac-4470-de1f-674621ed7355"
      },
      "source": [
        "num=int(input('Escribir un número cualquiera:'))\n",
        "if num == 200:\n",
        "  print(\"Escribiste el 200\")\n",
        "elif num >200:\n",
        " print(\"El número escrito es MAYOR a 200\")\n",
        "else:\n",
        "  print(\"El número escrito No ES 200\")\n",
        "  print(type(num)) "
      ],
      "execution_count": 11,
      "outputs": [
        {
          "output_type": "stream",
          "text": [
            "Escribir un número cualquiera:201\n",
            "El número escrito es MAYOR a 200\n"
          ],
          "name": "stdout"
        }
      ]
    },
    {
      "cell_type": "markdown",
      "metadata": {
        "id": "gvJglbqMGUyy"
      },
      "source": [
        "Es importante usar **ELIF**, si se hace if, else, if, se particionara el código de forma abrupta\n",
        "\n",
        "Ejemplo de error:\n"
      ]
    },
    {
      "cell_type": "code",
      "metadata": {
        "colab": {
          "base_uri": "https://localhost:8080/",
          "height": 132
        },
        "id": "9EmJP5W4Gi-F",
        "outputId": "f230024b-cc95-4c28-afad-66891a6c6f08"
      },
      "source": [
        "num=int(input('Escribir un número cualquiera:'))\n",
        "if num == 200:\n",
        "  print(\"Escribiste el 200\")\n",
        "else num >200:\n",
        " print(\"El número escrito es MAYOR a 200\")\n",
        "if:\n",
        "  print(\"El número escrito No ES 200\")\n"
      ],
      "execution_count": 18,
      "outputs": [
        {
          "output_type": "error",
          "ename": "SyntaxError",
          "evalue": "ignored",
          "traceback": [
            "\u001b[0;36m  File \u001b[0;32m\"<ipython-input-18-36185fe23763>\"\u001b[0;36m, line \u001b[0;32m4\u001b[0m\n\u001b[0;31m    else num >200:\u001b[0m\n\u001b[0m           ^\u001b[0m\n\u001b[0;31mSyntaxError\u001b[0m\u001b[0;31m:\u001b[0m invalid syntax\n"
          ]
        }
      ]
    },
    {
      "cell_type": "markdown",
      "metadata": {
        "id": "qrNkFvElHhxR"
      },
      "source": [
        "**Condicionales Múltiples**\n",
        "\n",
        "---\n",
        "Cuando se presentan situaciones con más de una condición que dependen unas de otras, estas se pueden tratar mediante el manejo de varias sencicas o comandos if, o mediante el manejo adecuado del comando elif.\n",
        "Sin embargo, en muchos casos cuando hay múltiples condiciones, la programación necesita mayor cantidad de líneas de código.\n",
        "\n",
        "En esos casos, es necesario, el uso de operadores lógicos como el and y el or.\n",
        "\n",
        "Ahora vamos a hacer un ejemplo para condicionales anidadas...\n",
        "\n"
      ]
    },
    {
      "cell_type": "code",
      "metadata": {
        "colab": {
          "base_uri": "https://localhost:8080/"
        },
        "id": "o2lx--2-II29",
        "outputId": "400448e4-bca0-4200-e693-81b2aafb0c33"
      },
      "source": [
        "x=int(input(\"valor\")) #Condicional anidada\n",
        "if 0<x:\n",
        "  if x<10:\n",
        "    print(\"x es un número positivo\")"
      ],
      "execution_count": 24,
      "outputs": [
        {
          "output_type": "stream",
          "text": [
            "valor15\n"
          ],
          "name": "stdout"
        }
      ]
    },
    {
      "cell_type": "code",
      "metadata": {
        "colab": {
          "base_uri": "https://localhost:8080/"
        },
        "id": "xatpevHZKBww",
        "outputId": "c4af073f-db43-48bb-e8f9-4d9f1ce74842"
      },
      "source": [
        "x=int(input(\"valor\")) #Expresión booleana\n",
        "if 0<x and x<10:\n",
        "  print(\"x es un número de un solo dígito\")"
      ],
      "execution_count": 25,
      "outputs": [
        {
          "output_type": "stream",
          "text": [
            "valor15\n"
          ],
          "name": "stdout"
        }
      ]
    },
    {
      "cell_type": "code",
      "metadata": {
        "colab": {
          "base_uri": "https://localhost:8080/"
        },
        "id": "tLoKiRvHKUFk",
        "outputId": "9030a316-ef59-4792-8d4f-2201316876fe"
      },
      "source": [
        "x=int(input(\"valor\")) #Sintaxis alternativa y más corrta del mismo ejercicio\n",
        "if 0<x<10:\n",
        "  print(\"x es un número de un solo dígito\")\n"
      ],
      "execution_count": 26,
      "outputs": [
        {
          "output_type": "stream",
          "text": [
            "valor3\n",
            "x es un número de un solo dígito\n"
          ],
          "name": "stdout"
        }
      ]
    },
    {
      "cell_type": "markdown",
      "metadata": {
        "id": "7nyncwDEKxWZ"
      },
      "source": [
        "Nota: esta condición es la misma expresión booleana compuesta y la misma expresión condicional anidada.\n",
        "\n",
        "\n"
      ]
    }
  ]
}