{
  "nbformat": 4,
  "nbformat_minor": 0,
  "metadata": {
    "colab": {
      "name": "Tarea_clase_3_6Agosto2021.ipynb",
      "provenance": [],
      "authorship_tag": "ABX9TyMx9rGNijIbwNa/7JGOv3mF",
      "include_colab_link": true
    },
    "kernelspec": {
      "name": "python3",
      "display_name": "Python 3"
    },
    "language_info": {
      "name": "python"
    }
  },
  "cells": [
    {
      "cell_type": "markdown",
      "metadata": {
        "id": "view-in-github",
        "colab_type": "text"
      },
      "source": [
        "<a href=\"https://colab.research.google.com/github/AdrianaMorenoGutierrez/MujeresDigitales/blob/main/Tarea_clase_3_6Agosto2021.ipynb\" target=\"_parent\"><img src=\"https://colab.research.google.com/assets/colab-badge.svg\" alt=\"Open In Colab\"/></a>"
      ]
    },
    {
      "cell_type": "markdown",
      "metadata": {
        "id": "mHU7SDuFMCst"
      },
      "source": [
        "\n",
        "**1.** \n",
        "\n",
        "El Bootcamp comenzo el 26 de Julio del 2021, se les explico a las estudiantes que se les evaluaría de la siguiente forma:\n",
        "\n",
        "Tareas= 10% Talleres=25% Asistencia=5% Participación=15% Proyecto=45%\n",
        "\n",
        "teniendo en cuenta las ponderaciones de calificación del bootcamp, las estudiantes deciden desarrollar un programa que les permita saber cuanto tendría que sacar en el proyecto para tener una definitiva de 3.7 minimo en el curso. si las notas que llevan hasta el momento son las siguientes:\n",
        "\n",
        "Tareas=4.5 Talleres=4 Asistencia=5 paticipación=4\n",
        "\n",
        "¿Cuanto tendrían que sacar en el proyecto?"
      ]
    },
    {
      "cell_type": "markdown",
      "metadata": {
        "id": "qa3S3M9GdZm6"
      },
      "source": [
        ""
      ]
    },
    {
      "cell_type": "code",
      "metadata": {
        "id": "iYGLA9-odd8z"
      },
      "source": [
        "# INTENTO 1\n",
        "\n",
        "# Código para calcular notas del Bootcamp\n",
        "\n",
        "est=input(\"Nombre del estudiante:\")\n",
        "est_id=int(input(\"ID del estudiante:\"))\n",
        "\n",
        "n1_tareas=float (4.5)\n",
        "n2_talleres=float (4.0)\n",
        "n3_asistencia=float (5.0)\n",
        "n4_participacion=float (4.0)\n",
        "n6_notamin_aprobar=float (3.7)\n",
        "\n",
        "v1_tareas=float (0.1*\"n1_tareas\")\n",
        "v2_talleres=float (0.25*\"n2_talleres\")\n",
        "v3_asistencia=float (0.5*\"n3_asistencia\")\n",
        "v4_participacion=float (0.15*\"n4_participacion\")\n",
        "v5_proyecto= float ((\"n6_notamin_aprobar\"-(0.1*\"n1_tareas\")-(0.2*\"n2_talleres\")-(\"n3_asistencia\"*0.5)-(\"n4_participacion\"*0.15)/0.45))\n",
        "\n",
        "print('La nota definitiva del estudiante es:',proyecto)\n",
        "\n",
        "\n"
      ],
      "execution_count": null,
      "outputs": []
    },
    {
      "cell_type": "markdown",
      "metadata": {
        "id": "moS9aXBgMl1X"
      },
      "source": [
        "**2.**\n",
        "La empresa VIVAFLY tiene como eslogan: \"Satisfacción y plenitud en un solo viaje\". Por lo cual, uno de los medios que utiliza VIVAFLY para mantener la satisfacción al cliente, es realizar rifas a lo largo del año para fomentar mayor unión y entendimiento. Para el mes de septiembre, por motivos de celebración de Amor y Amistad, la empresa decide sortear los siguientes viajes a los 5 clientes con más antigüedad:\n",
        "\n",
        "Viaje todo incluído para dos personas a San Andrés(Premio 1)\n",
        "un pasadía a los termales de San Vicente incluyendo almuerzo (Premio 2)\n",
        "Viaje todo incluido para dos personas a Santa Marta (Premio 3)\n",
        "Pasadía al desierto de Tatacoa (Sin incluír alimentación) (Premio 4)\n",
        "La empresa utilizará para el sorteo el método de balotera. A continuación se menciona el color ganador por premio:\n",
        "\n",
        "Rosado= Premio 1\n",
        "Verde=Premio 2\n",
        "Azul=Premio 3\n",
        "Gris=Premio 4\n",
        "Roja=No hay premio\n",
        "La probabilidad de sacar una balota rosada es del 15%, verde 20%, azul 5%, gris 20% y roja 40%.\n",
        "\n",
        "Adicionalmente, para las personas que SI obtengan premio, recibirán un bono en efectivo del porcentaje que represente la probabilidad de ganar con cada balota sobre un valor de 1.000.000 pesos. Sin embargo, se debe tener en cuenta que, Si al aplicar el porcentaje arroja un valor inferior a 120.000, no se les dará el bono en efectivo sino dos boletas de cine 4D para la película en estreno del mes incluyendo un solo combo de palomitas.Por otro lado, para la persona que saque balota roja obtendrá un premio de 120.000 pesos.\n",
        "\n",
        "Nota: El sorteo se realiza con el método de NO reemplazo. Es decir, la probabilidad de sacar cada una de las balotas es la misma para los 5 clientes. Porque a medida que vayan sacando las balotas ganadoras estás se regresan a la balotera y se mantendrá la misma cantidad de balotas.\n",
        "\n",
        "Teniendo en cuenta lo anterior.Se le pide a la analista que genere un código donde se pueda observar las respectivas premiaciones.\n",
        "\n",
        "las entradas deben ser las siguientes:\n",
        "\n",
        "Nombre de la concursante\n",
        "Color de balota\n",
        "Salida:\n",
        "\n",
        "Premio\n",
        "Enunciado de salida: \"La empresa VIVAFLY se complace en anunciar que La participante _ ganó _ en nuestro sorteo de viajes de AMOR y AMISTAD\"\n",
        "\n",
        "Ejemplo: \"La empresa VIVAFLY se complace en anunciar que La participante ANA ganó un pasadía a los termales de San Vicente en nuestro sorteo de viajes de AMOR y AMISTAD\""
      ]
    },
    {
      "cell_type": "code",
      "metadata": {
        "id": "xTZNM3vHMu5w"
      },
      "source": [
        "# Intento 1\n",
        "# Código para calcular de probabilidad \n",
        "\n",
        "premio1=San Andrés\n",
        "premio2=San Vicente \n",
        "premio3=Santa Marta\n",
        "premio4=\n",
        "\n",
        "Rosado= Premio 1 \n",
        "Verde=Premio 2 \n",
        "Azul=Premio 3 Gris=Premio \n",
        "4 Roja=No hay premio \n",
        "\n",
        "La probabilidad de sacar una balota rosada es del 15%, verde 20%, azul 5%, gris 20% y roja 40%.\n",
        "\n",
        "\n",
        "\n",
        "\n"
      ],
      "execution_count": null,
      "outputs": []
    }
  ]
}