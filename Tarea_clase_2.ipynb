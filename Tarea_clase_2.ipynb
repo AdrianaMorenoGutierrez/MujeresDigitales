{
  "nbformat": 4,
  "nbformat_minor": 0,
  "metadata": {
    "colab": {
      "name": "Tarea_clase_2.ipynb",
      "provenance": [],
      "authorship_tag": "ABX9TyPPHkeMa7pPZAzTaGX52KtQ",
      "include_colab_link": true
    },
    "kernelspec": {
      "name": "python3",
      "display_name": "Python 3"
    },
    "language_info": {
      "name": "python"
    }
  },
  "cells": [
    {
      "cell_type": "markdown",
      "metadata": {
        "id": "view-in-github",
        "colab_type": "text"
      },
      "source": [
        "<a href=\"https://colab.research.google.com/github/AdrianaMorenoGutierrez/MujeresDigitales/blob/main/Tarea_clase_2.ipynb\" target=\"_parent\"><img src=\"https://colab.research.google.com/assets/colab-badge.svg\" alt=\"Open In Colab\"/></a>"
      ]
    },
    {
      "cell_type": "markdown",
      "metadata": {
        "id": "2B8BT72Y0YpD"
      },
      "source": [
        ""
      ]
    },
    {
      "cell_type": "markdown",
      "metadata": {
        "id": "GSnezf450aS0"
      },
      "source": [
        "**TAREA 5 DE AGOSTO 2021**\n",
        "\n",
        "---\n",
        "\n",
        "Realizar cinco (5) ejercicios, con los temas vistos en clases.\n",
        "\n"
      ]
    }
  ]
}